{
 "cells": [
  {
   "cell_type": "code",
   "execution_count": 29,
   "metadata": {},
   "outputs": [],
   "source": [
    "import networkx as nx\n",
    "import torch\n",
    "import torch_geometric\n",
    "import matplotlib.pyplot as plt\n",
    "import pandas as pd\n",
    "import numpy as np"
   ]
  },
  {
   "cell_type": "code",
   "execution_count": 162,
   "metadata": {},
   "outputs": [],
   "source": [
    "cft_truth_graph = torch.load(\"events/event000047441-graph.pyg\")"
   ]
  },
  {
   "cell_type": "code",
   "execution_count": 174,
   "metadata": {},
   "outputs": [
    {
     "name": "stdout",
     "output_type": "stream",
     "text": [
      "Number of CFT truth nodes: 307435\n",
      "Number of CFT truth edges: 126866\n",
      "Number of selected CFT truth nodes: 15286\n",
      "Number of selected CFT truth edges: 14137\n",
      "Number of selected CFT unsplit truth nodes: 15186\n",
      "Number of selected CFT unsplit truth edges: 13960\n"
     ]
    }
   ],
   "source": [
    "print(\"Number of CFT truth nodes:\", len(cft_truth_graph.x))\n",
    "\n",
    "cft_truth_edges = pd.DataFrame(cft_truth_graph.track_edges.T.numpy(), columns=['source', 'target'])#.reset_index()\n",
    "print(\"Number of CFT truth edges:\", len(cft_truth_edges))\n",
    "\n",
    "particle_selections = (\n",
    "    (cft_truth_graph.pt >= 1000.) \n",
    "    & (cft_truth_graph.eta > -4) \n",
    "    & (cft_truth_graph.eta < 4) \n",
    "    & (cft_truth_graph.nhits >= 3) \n",
    "    & (cft_truth_graph.primary == True) \n",
    "    & (abs(cft_truth_graph.pdgId) != 11) \n",
    "    & (cft_truth_graph.radius < 260.) \n",
    "    # & (cft_truth_graph.redundant_split_edges == False)\n",
    "    # & (cft_truth_graph.barcode < 200000)\n",
    "    # & (cft_truth_graph.subevent == 0)\n",
    ").numpy()\n",
    "\n",
    "selected_cft_truth_edges = cft_truth_edges[particle_selections]\n",
    "selected_cft_truth_unsplit_edges = cft_truth_edges[\n",
    "    particle_selections & (cft_truth_graph.redundant_split_edges == False).numpy()]\n",
    "\n",
    "print(\"Number of selected CFT truth nodes:\", len(np.unique(np.concatenate([selected_cft_truth_edges.source.to_numpy(), selected_cft_truth_edges.target.to_numpy()]))))\n",
    "print(\"Number of selected CFT truth edges:\", len(selected_cft_truth_edges))\n",
    "print(\"Number of selected CFT unsplit truth nodes:\", len(np.unique(np.concatenate([selected_cft_truth_unsplit_edges.source.to_numpy(), selected_cft_truth_unsplit_edges.target.to_numpy()]))))\n",
    "print(\"Number of selected CFT unsplit truth edges:\", len(selected_cft_truth_unsplit_edges))"
   ]
  },
  {
   "cell_type": "code",
   "execution_count": 4,
   "metadata": {},
   "outputs": [],
   "source": [
    "module_map_graph = nx.read_graphml(\"OUTPUT_DIR_GEN/event000047441_TARGET.txt\")"
   ]
  },
  {
   "cell_type": "code",
   "execution_count": 179,
   "metadata": {},
   "outputs": [
    {
     "name": "stdout",
     "output_type": "stream",
     "text": [
      "Number of module map nodes: 14924\n",
      "Number of module map edges: 17211\n"
     ]
    }
   ],
   "source": [
    "module_map_nodes = pd.DataFrame(np.array(module_map_graph.nodes.data('hit_id')), columns=['node', 'hit_id']).astype({'hit_id': int})\n",
    "# print(\"Number of nodes in input file:\", len(module_map_nodes))\n",
    "\n",
    "module_map_edges = nx.to_pandas_edgelist(module_map_graph)\n",
    "module_map_edges = module_map_edges.merge(\n",
    "    module_map_nodes, left_on='source', right_on='node', how='left').drop(\n",
    "        ['source', 'node'], axis=1).rename(columns={'hit_id': 'source'})\n",
    "module_map_edges = module_map_edges.merge(\n",
    "    module_map_nodes, left_on='target', right_on='node', how='left').drop(\n",
    "        ['target', 'node'], axis=1).rename(columns={'hit_id': 'target'})\n",
    "# print(module_map_edges)\n",
    "print(\"Number of module map nodes:\", len(np.unique(np.concatenate([module_map_edges.source.to_numpy(), module_map_edges.target.to_numpy()]))))\n",
    "print(\"Number of module map edges:\", len(module_map_edges))"
   ]
  },
  {
   "cell_type": "code",
   "execution_count": 178,
   "metadata": {},
   "outputs": [
    {
     "name": "stdout",
     "output_type": "stream",
     "text": [
      "Number of truth module map nodes: 12442\n",
      "Number of truth module map edges: 10131\n"
     ]
    }
   ],
   "source": [
    "module_map_truth_edges = module_map_edges[module_map_edges.is_segment_true==True]\n",
    "print(\"Number of truth module map nodes:\", len(np.unique(np.concatenate([module_map_truth_edges.source.to_numpy(), module_map_truth_edges.target.to_numpy()]))))\n",
    "print(\"Number of truth module map edges:\", len(module_map_truth_edges))"
   ]
  },
  {
   "cell_type": "code",
   "execution_count": 180,
   "metadata": {},
   "outputs": [
    {
     "name": "stdout",
     "output_type": "stream",
     "text": [
      "Number of matched non-split edges: 10026\n",
      "Number of reversed non-splitmatched edges: 0\n",
      "Number of unmatched module map true non-split edges: 105\n"
     ]
    },
    {
     "data": {
      "text/html": [
       "<div>\n",
       "<style scoped>\n",
       "    .dataframe tbody tr th:only-of-type {\n",
       "        vertical-align: middle;\n",
       "    }\n",
       "\n",
       "    .dataframe tbody tr th {\n",
       "        vertical-align: top;\n",
       "    }\n",
       "\n",
       "    .dataframe thead th {\n",
       "        text-align: right;\n",
       "    }\n",
       "</style>\n",
       "<table border=\"1\" class=\"dataframe\">\n",
       "  <thead>\n",
       "    <tr style=\"text-align: right;\">\n",
       "      <th></th>\n",
       "      <th>mask_edge</th>\n",
       "      <th>is_segment_true</th>\n",
       "      <th>region</th>\n",
       "      <th>id</th>\n",
       "      <th>pt_particle</th>\n",
       "      <th>source</th>\n",
       "      <th>target</th>\n",
       "    </tr>\n",
       "  </thead>\n",
       "  <tbody>\n",
       "    <tr>\n",
       "      <th>310</th>\n",
       "      <td>1</td>\n",
       "      <td>1</td>\n",
       "      <td>1</td>\n",
       "      <td>e532</td>\n",
       "      <td>1.04136</td>\n",
       "      <td>22015</td>\n",
       "      <td>23719</td>\n",
       "    </tr>\n",
       "    <tr>\n",
       "      <th>416</th>\n",
       "      <td>1</td>\n",
       "      <td>1</td>\n",
       "      <td>1</td>\n",
       "      <td>e704</td>\n",
       "      <td>1.04136</td>\n",
       "      <td>23660</td>\n",
       "      <td>22015</td>\n",
       "    </tr>\n",
       "    <tr>\n",
       "      <th>1269</th>\n",
       "      <td>1</td>\n",
       "      <td>1</td>\n",
       "      <td>1</td>\n",
       "      <td>e2321</td>\n",
       "      <td>1.76169</td>\n",
       "      <td>9045</td>\n",
       "      <td>10074</td>\n",
       "    </tr>\n",
       "    <tr>\n",
       "      <th>1551</th>\n",
       "      <td>1</td>\n",
       "      <td>1</td>\n",
       "      <td>1</td>\n",
       "      <td>e2825</td>\n",
       "      <td>1.28945</td>\n",
       "      <td>51377</td>\n",
       "      <td>49536</td>\n",
       "    </tr>\n",
       "    <tr>\n",
       "      <th>1849</th>\n",
       "      <td>1</td>\n",
       "      <td>1</td>\n",
       "      <td>1</td>\n",
       "      <td>e3408</td>\n",
       "      <td>1.06264</td>\n",
       "      <td>47129</td>\n",
       "      <td>48901</td>\n",
       "    </tr>\n",
       "    <tr>\n",
       "      <th>...</th>\n",
       "      <td>...</td>\n",
       "      <td>...</td>\n",
       "      <td>...</td>\n",
       "      <td>...</td>\n",
       "      <td>...</td>\n",
       "      <td>...</td>\n",
       "      <td>...</td>\n",
       "    </tr>\n",
       "    <tr>\n",
       "      <th>9156</th>\n",
       "      <td>1</td>\n",
       "      <td>1</td>\n",
       "      <td>3</td>\n",
       "      <td>e15543</td>\n",
       "      <td>1.84472</td>\n",
       "      <td>204951</td>\n",
       "      <td>205006</td>\n",
       "    </tr>\n",
       "    <tr>\n",
       "      <th>9164</th>\n",
       "      <td>1</td>\n",
       "      <td>1</td>\n",
       "      <td>3</td>\n",
       "      <td>e15556</td>\n",
       "      <td>1.84472</td>\n",
       "      <td>205006</td>\n",
       "      <td>205050</td>\n",
       "    </tr>\n",
       "    <tr>\n",
       "      <th>9234</th>\n",
       "      <td>1</td>\n",
       "      <td>1</td>\n",
       "      <td>3</td>\n",
       "      <td>e15683</td>\n",
       "      <td>1.47904</td>\n",
       "      <td>198403</td>\n",
       "      <td>200218</td>\n",
       "    </tr>\n",
       "    <tr>\n",
       "      <th>9842</th>\n",
       "      <td>1</td>\n",
       "      <td>1</td>\n",
       "      <td>3</td>\n",
       "      <td>e16793</td>\n",
       "      <td>1.44852</td>\n",
       "      <td>222794</td>\n",
       "      <td>231168</td>\n",
       "    </tr>\n",
       "    <tr>\n",
       "      <th>9843</th>\n",
       "      <td>1</td>\n",
       "      <td>1</td>\n",
       "      <td>3</td>\n",
       "      <td>e16795</td>\n",
       "      <td>1.44852</td>\n",
       "      <td>231168</td>\n",
       "      <td>231194</td>\n",
       "    </tr>\n",
       "  </tbody>\n",
       "</table>\n",
       "<p>105 rows × 7 columns</p>\n",
       "</div>"
      ],
      "text/plain": [
       "      mask_edge  is_segment_true  region      id  pt_particle  source  target\n",
       "310           1                1       1    e532      1.04136   22015   23719\n",
       "416           1                1       1    e704      1.04136   23660   22015\n",
       "1269          1                1       1   e2321      1.76169    9045   10074\n",
       "1551          1                1       1   e2825      1.28945   51377   49536\n",
       "1849          1                1       1   e3408      1.06264   47129   48901\n",
       "...         ...              ...     ...     ...          ...     ...     ...\n",
       "9156          1                1       3  e15543      1.84472  204951  205006\n",
       "9164          1                1       3  e15556      1.84472  205006  205050\n",
       "9234          1                1       3  e15683      1.47904  198403  200218\n",
       "9842          1                1       3  e16793      1.44852  222794  231168\n",
       "9843          1                1       3  e16795      1.44852  231168  231194\n",
       "\n",
       "[105 rows x 7 columns]"
      ]
     },
     "execution_count": 180,
     "metadata": {},
     "output_type": "execute_result"
    }
   ],
   "source": [
    "# selected_cft_truth_edges\n",
    "merged_truth_edges = selected_cft_truth_unsplit_edges.merge(\n",
    "    module_map_truth_edges,\n",
    "    on=[\"source\", \"target\"],\n",
    "    how='inner'\n",
    "    )\n",
    "\n",
    "print(\"Number of matched non-split edges:\", len(merged_truth_edges))\n",
    "\n",
    "reversed_merged_truth_edges = selected_cft_truth_unsplit_edges.merge(\n",
    "    module_map_truth_edges,\n",
    "    left_on=[\"source\", \"target\"],\n",
    "    right_on=[\"target\", \"source\"],\n",
    "    how='inner'\n",
    "    ).rename(columns={\"source_x\": \"source\", \"target_x\": \"target\"}).drop([\"source_y\", \"target_y\"], axis=1)\n",
    "\n",
    "print(\"Number of reversed non-splitmatched edges:\", len(reversed_merged_truth_edges))\n",
    "\n",
    "merged_truth_edges = pd.concat([merged_truth_edges, reversed_merged_truth_edges])\n",
    "\n",
    "unmatched_module_map_truth_edges = module_map_truth_edges.merge(\n",
    "    merged_truth_edges[[\"id\", \"source\"]], on=\"id\", how='left').rename(columns={\"source_x\": \"source\"})\n",
    "unmatched_module_map_truth_edges = unmatched_module_map_truth_edges[\n",
    "    unmatched_module_map_truth_edges[\"source_y\"].isna()].drop([\"source_y\"], axis=1)\n",
    "print(\"Number of unmatched module map true non-split edges:\", len(unmatched_module_map_truth_edges))\n",
    "unmatched_module_map_truth_edges"
   ]
  },
  {
   "cell_type": "code",
   "execution_count": 181,
   "metadata": {},
   "outputs": [
    {
     "name": "stdout",
     "output_type": "stream",
     "text": [
      "Number of matched edges: 10131\n",
      "Number of reversed matched edges: 0\n",
      "Number of unmatched module map true edges: 0\n"
     ]
    },
    {
     "data": {
      "text/html": [
       "<div>\n",
       "<style scoped>\n",
       "    .dataframe tbody tr th:only-of-type {\n",
       "        vertical-align: middle;\n",
       "    }\n",
       "\n",
       "    .dataframe tbody tr th {\n",
       "        vertical-align: top;\n",
       "    }\n",
       "\n",
       "    .dataframe thead th {\n",
       "        text-align: right;\n",
       "    }\n",
       "</style>\n",
       "<table border=\"1\" class=\"dataframe\">\n",
       "  <thead>\n",
       "    <tr style=\"text-align: right;\">\n",
       "      <th></th>\n",
       "      <th>mask_edge</th>\n",
       "      <th>is_segment_true</th>\n",
       "      <th>region</th>\n",
       "      <th>id</th>\n",
       "      <th>pt_particle</th>\n",
       "      <th>source</th>\n",
       "      <th>target</th>\n",
       "    </tr>\n",
       "  </thead>\n",
       "  <tbody>\n",
       "  </tbody>\n",
       "</table>\n",
       "</div>"
      ],
      "text/plain": [
       "Empty DataFrame\n",
       "Columns: [mask_edge, is_segment_true, region, id, pt_particle, source, target]\n",
       "Index: []"
      ]
     },
     "execution_count": 181,
     "metadata": {},
     "output_type": "execute_result"
    }
   ],
   "source": [
    "# selected_cft_truth_edges\n",
    "merged_truth_edges = selected_cft_truth_edges.merge(\n",
    "    module_map_truth_edges,\n",
    "    on=[\"source\", \"target\"],\n",
    "    how='inner'\n",
    "    )\n",
    "\n",
    "print(\"Number of matched edges:\", len(merged_truth_edges))\n",
    "\n",
    "reversed_merged_truth_edges = selected_cft_truth_edges.merge(\n",
    "    module_map_truth_edges,\n",
    "    left_on=[\"source\", \"target\"],\n",
    "    right_on=[\"target\", \"source\"],\n",
    "    how='inner'\n",
    "    ).rename(columns={\"source_x\": \"source\", \"target_x\": \"target\"}).drop([\"source_y\", \"target_y\"], axis=1)\n",
    "\n",
    "print(\"Number of reversed matched edges:\", len(reversed_merged_truth_edges))\n",
    "\n",
    "merged_truth_edges = pd.concat([merged_truth_edges, reversed_merged_truth_edges])\n",
    "\n",
    "unmatched_module_map_truth_edges = module_map_truth_edges.merge(\n",
    "    merged_truth_edges[[\"id\", \"source\"]], on=\"id\", how='left').rename(columns={\"source_x\": \"source\"})\n",
    "unmatched_module_map_truth_edges = unmatched_module_map_truth_edges[\n",
    "    unmatched_module_map_truth_edges[\"source_y\"].isna()].drop([\"source_y\"], axis=1)\n",
    "print(\"Number of unmatched module map true edges:\", len(unmatched_module_map_truth_edges))\n",
    "unmatched_module_map_truth_edges"
   ]
  },
  {
   "cell_type": "code",
   "execution_count": null,
   "metadata": {},
   "outputs": [],
   "source": []
  }
 ],
 "metadata": {
  "kernelspec": {
   "display_name": "Python 3",
   "language": "python",
   "name": "python3"
  },
  "language_info": {
   "codemirror_mode": {
    "name": "ipython",
    "version": 3
   },
   "file_extension": ".py",
   "mimetype": "text/x-python",
   "name": "python",
   "nbconvert_exporter": "python",
   "pygments_lexer": "ipython3",
   "version": "3.11.4"
  },
  "orig_nbformat": 4
 },
 "nbformat": 4,
 "nbformat_minor": 2
}
